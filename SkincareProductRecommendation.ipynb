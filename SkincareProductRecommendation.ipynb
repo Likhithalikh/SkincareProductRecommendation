{
  "cells": [
    {
      "cell_type": "code",
      "execution_count": null,
      "metadata": {
        "id": "gMhNam9qVHyp"
      },
      "outputs": [],
      "source": [
        "import pandas as pd\n",
        "from sklearn.feature_extraction.text import TfidfVectorizer\n",
        "from sklearn.metrics.pairwise import cosine_similarity\n"
      ]
    },
    {
      "cell_type": "code",
      "execution_count": null,
      "metadata": {
        "id": "xznjJzrPVLXk"
      },
      "outputs": [],
      "source": [
        "df = pd.read_csv('/content/skincare_products_clean.csv')"
      ]
    },
    {
      "cell_type": "code",
      "execution_count": null,
      "metadata": {
        "colab": {
          "base_uri": "https://localhost:8080/"
        },
        "id": "t0L7R64zX1rM",
        "outputId": "d8f1a05e-cd09-4c94-c04d-f2782d22cc76"
      },
      "outputs": [
        {
          "name": "stdout",
          "output_type": "stream",
          "text": [
            "(1138, 5)\n",
            "Index(['product_name', 'product_url', 'product_type', 'clean_ingreds',\n",
            "       'price'],\n",
            "      dtype='object')\n",
            "product_name     object\n",
            "product_url      object\n",
            "product_type     object\n",
            "clean_ingreds    object\n",
            "price            object\n",
            "dtype: object\n",
            "                                        product_name  \\\n",
            "0  The Ordinary Natural Moisturising Factors + HA...   \n",
            "1      CeraVe Facial Moisturising Lotion SPF 25 52ml   \n",
            "2  The Ordinary Hyaluronic Acid 2% + B5 Hydration...   \n",
            "3          AMELIORATE Transforming Body Lotion 200ml   \n",
            "4                     CeraVe Moisturising Cream 454g   \n",
            "\n",
            "                                         product_url product_type  \\\n",
            "0  https://www.lookfantastic.com/the-ordinary-nat...  Moisturiser   \n",
            "1  https://www.lookfantastic.com/cerave-facial-mo...  Moisturiser   \n",
            "2  https://www.lookfantastic.com/the-ordinary-hya...  Moisturiser   \n",
            "3  https://www.lookfantastic.com/ameliorate-trans...  Moisturiser   \n",
            "4  https://www.lookfantastic.com/cerave-moisturis...  Moisturiser   \n",
            "\n",
            "                                       clean_ingreds   price  \n",
            "0  ['capric triglyceride', 'cetyl alcohol', 'prop...   £5.20  \n",
            "1  ['homosalate', 'glycerin', 'octocrylene', 'eth...  £13.00  \n",
            "2  ['sodium hyaluronate', 'sodium hyaluronate', '...   £6.20  \n",
            "3  ['ammonium lactate', 'c12-15', 'glycerin', 'pr...  £22.50  \n",
            "4  ['glycerin', 'cetearyl alcohol', 'capric trigl...  £16.00  \n"
          ]
        }
      ],
      "source": [
        "print(df.shape)\n",
        "print(df.columns)\n",
        "print(df.dtypes)\n",
        "print(df.head())"
      ]
    },
    {
      "cell_type": "code",
      "execution_count": null,
      "metadata": {
        "id": "Wb5Fhlm4Va2_"
      },
      "outputs": [],
      "source": [
        "def recommend_products(clean_ingreds, product_type=None, price=None):\n",
        "    vectorizer = TfidfVectorizer()\n",
        "    ingredient_vectors = vectorizer.fit_transform(df['clean_ingreds'])\n",
        "    input_vector = vectorizer.transform([clean_ingreds])\n",
        "    similarities = cosine_similarity(input_vector, ingredient_vectors)\n",
        "\n",
        "\n",
        "    top_indices = similarities.argsort()[0][-5:][::-1]\n",
        "\n",
        "\n",
        "    if product_type:\n",
        "        top_indices = [i for i in top_indices if df.iloc[i]['product_type'] == product_type]\n",
        "    if price:\n",
        "        top_indices = [i for i in top_indices if df.iloc[i]['price'] >= price[0] and df.iloc[i]['price'] <= price[1]]\n",
        "\n",
        "\n",
        "    return df.iloc[top_indices]"
      ]
    },
    {
      "cell_type": "code",
      "execution_count": null,
      "metadata": {
        "colab": {
          "base_uri": "https://localhost:8080/"
        },
        "id": "fz3GcXyMYLia",
        "outputId": "8cc956c9-0769-4515-a709-675f5f7d04ca"
      },
      "outputs": [
        {
          "name": "stdout",
          "output_type": "stream",
          "text": [
            "[\"['capric triglyceride', 'cetyl alcohol', 'propanediol', 'stearyl alcohol', 'glycerin', 'sodium hyaluronate', 'arganine', 'aspartic acid', 'glycine', 'alanine', 'serine', 'valine', 'isoleucine', 'proline', 'threonine', 'histidine', 'phenylalanine', 'glucose', 'maltose', 'fructose', 'trehalose', 'sodium pca', 'pca', 'sodium lactate', 'urea', 'allantoin', 'linoleic acid', 'oleic acid', 'phytosteryl canola glycerides', 'palmitic acid', 'stearic acid', 'lecithin', 'triolein', 'tocopherol', 'carbomer', 'isoceteth-20', 'polysorbate 60', 'sodium chloride', 'citric acid', 'trisodium ethylenediamine disuccinate', 'pentylene glycol', 'triethanolamine', 'sodium hydroxide', 'phenoxyethanol', 'chlorphenesin']\"\n",
            " \"['homosalate', 'glycerin', 'octocrylene', 'ethylhexyl', 'salicylate', 'niacinamide', 'silica', 'butyl methoxydibenzoylmethane', 'dimethicon', 'cetearyl alcohol', 'peg-100 stearate', 'glyceryl stearate', 'phenoxyethanol', 'stearic acid', 'behentrimonium methosulfate', 'caprylyl glycol', 'palmitic acid', 'ammonium polyacryloyldmethyl taurate', 'xanthan gum', 'disodium edta', 'tocopherol', 'sodium lauroyl', 'myristic acid', 'sodium hyaluronate', 'ceramide np', 'ceramide ap', 'phytosphingosine', 'cholesterol', 'cerbomer', 'ethylhexyl glycerin', 'ceramide eop']\"\n",
            " \"['sodium hyaluronate', 'sodium hyaluronate', 'panthenol', 'ahnfeltia concinna extract', 'glycerin', 'pentylene glycol', 'propanediol', 'polyacrylate crosspolymer-6', 'ppg-26 buteth-26', 'castor oil', 'trisodium ethylenediamine disuccinate', 'citric acid', 'ethoxydiglycol', 'caprylyl glycol', 'hexylene glycol', 'ethylhexyl glycerin', 'phenoxyethanol', 'chlorphenesin']\"\n",
            " ...\n",
            " \"['prunus amygdalus dulcis', 'tipa-laureth sulfate', 'laureth-2', 'parfum', 'propylene glycol', 'pelargonium graveolens extract', 'sorbitan oleate', 'linalool', 'geraniol', 'cananga odorata flower oil', 'papaver orientale (poppy) seed oil', 'amaranthus caudatus seed extract', 'tocopherol', 'platonia insignis (bacuri) seed oil', 'citronellol', 'eugenol', 'limonene', 'helianthus annuus seed oil', 'benzyl benzoate', 'hydrogenated olus oil', 'rosmarinus officinalis extract', 'cedrus atlantica bark oil']\"\n",
            " \"['capric triglyceride', 'peg-40 sorbitan peroleate', 'ppg-15 stearyl ether', 'parfum', 'aleurites moluccanus seed oil', 'macadamia ternifolia seed oil', 'calophyllum tacamahaca (tamanu) seed oil', 'benzyl benzoate', 'butylphenyl methylpropional', 'linalool', 'tocopherol', 'hydroxyisohexyl 3-cyclohexene', 'citronellol', 'limonene', 'coumarin', 'eugenol']\"\n",
            " \"['prunus amygdalus dulcis', 'sesamium indicum seed oil', 'alcohol', 'glycerin', 'glyceryl oleate', 'calendula officinalis extract', 'sodium cera alba', 'xanthan gum', 'parfum', 'limonene', 'linalool']\"]\n"
          ]
        }
      ],
      "source": [
        "print(df['clean_ingreds'].unique())"
      ]
    },
    {
      "cell_type": "code",
      "execution_count": null,
      "metadata": {
        "id": "xi4kX8SuVgAU"
      },
      "outputs": [],
      "source": [
        "clean_ingreds = 'sodium hyaluronate, sodium hyaluronate, panthenol'\n",
        "product_type = 'moisturizer'\n",
        "price = (20, 50)"
      ]
    },
    {
      "cell_type": "code",
      "execution_count": null,
      "metadata": {
        "colab": {
          "base_uri": "https://localhost:8080/"
        },
        "id": "RRls-vhWVkfQ",
        "outputId": "16ea9c7f-0c7e-47b9-ca5c-a39e11bacc9e"
      },
      "outputs": [
        {
          "name": "stdout",
          "output_type": "stream",
          "text": [
            "                                          product_name  \\\n",
            "619        La Roche-Posay Hydraphase Intense Eyes 15ml   \n",
            "128                         Medik8 Hydr8 B5 Serum 30ml   \n",
            "541   FOREO UFO Activated Masks - Make My Day (7 Pack)   \n",
            "213  FOREO 'Serum Serum Serum' Micro-Capsule Youth ...   \n",
            "121  The Ordinary Hyaluronic Acid 2% + B5 Supersize...   \n",
            "\n",
            "                                           product_url   price  \n",
            "619  https://www.lookfantastic.com/la-roche-posay-h...  £16.00  \n",
            "128  https://www.lookfantastic.com/medik8-hydr8-b5-...  £40.00  \n",
            "541  https://www.lookfantastic.com/foreo-ufo-activa...   £9.99  \n",
            "213  https://www.lookfantastic.com/foreo-serum-seru...  £49.00  \n",
            "121  https://www.lookfantastic.com/the-ordinary-hya...  £11.00  \n"
          ]
        }
      ],
      "source": [
        "recommended_products = recommend_products(clean_ingreds)\n",
        "print(recommended_products[['product_name', 'product_url', 'price']])"
      ]
    }
  ],
  "metadata": {
    "colab": {
      "provenance": []
    },
    "kernelspec": {
      "display_name": "Python 3",
      "name": "python3"
    },
    "language_info": {
      "name": "python"
    }
  },
  "nbformat": 4,
  "nbformat_minor": 0
}